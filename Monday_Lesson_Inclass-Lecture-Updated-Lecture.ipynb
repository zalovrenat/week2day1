{
 "cells": [
  {
   "attachments": {},
   "cell_type": "markdown",
   "metadata": {},
   "source": [
    "# Week 2 - Monday Lesson (variable assignment, loops, lists)"
   ]
  },
  {
   "attachments": {},
   "cell_type": "markdown",
   "metadata": {},
   "source": [
    "## Tasks Today:\n",
    "\n",
    "1) Int & Float assignments <br>\n",
    " &nbsp;&nbsp;&nbsp;&nbsp; a) Assigning int <br>\n",
    " &nbsp;&nbsp;&nbsp;&nbsp; b) Assigning float <br>\n",
    " &nbsp;&nbsp;&nbsp;&nbsp; c) Performing Calculations on ints and floats <br>\n",
    " &nbsp;&nbsp;&nbsp;&nbsp;&nbsp;&nbsp;&nbsp;&nbsp; - Addition <br>\n",
    " &nbsp;&nbsp;&nbsp;&nbsp;&nbsp;&nbsp;&nbsp;&nbsp; - Subtraction <br>\n",
    " &nbsp;&nbsp;&nbsp;&nbsp;&nbsp;&nbsp;&nbsp;&nbsp; - Multiplication <br>\n",
    " &nbsp;&nbsp;&nbsp;&nbsp;&nbsp;&nbsp;&nbsp;&nbsp; - Division <br>\n",
    " &nbsp;&nbsp;&nbsp;&nbsp;&nbsp;&nbsp;&nbsp;&nbsp; - Floor Division <br>\n",
    " &nbsp;&nbsp;&nbsp;&nbsp;&nbsp;&nbsp;&nbsp;&nbsp; - Modulo <br>\n",
    " &nbsp;&nbsp;&nbsp;&nbsp;&nbsp;&nbsp;&nbsp;&nbsp; - Exponential <br>\n",
    "2) String Input-Output <br>\n",
    " &nbsp;&nbsp;&nbsp;&nbsp; a) String Assignment <br>\n",
    " &nbsp;&nbsp;&nbsp;&nbsp; b) print() <br>\n",
    " &nbsp;&nbsp;&nbsp;&nbsp; c) String Concatenation <br>\n",
    " &nbsp;&nbsp;&nbsp;&nbsp; d) Type Conversion <br>\n",
    " &nbsp;&nbsp;&nbsp;&nbsp; e) input() <br>\n",
    " &nbsp;&nbsp;&nbsp;&nbsp; f) format() <br>\n",
    " &nbsp;&nbsp;&nbsp;&nbsp; g) Old Way (python 2) <br>\n",
    "3) <b>In-Class Exercise #1</b> <br>\n",
    "4) If Statements <br>\n",
    " &nbsp;&nbsp;&nbsp;&nbsp; a) 'is' keyword <br>\n",
    " &nbsp;&nbsp;&nbsp;&nbsp; b) 'in' keyword <br>\n",
    " &nbsp;&nbsp;&nbsp;&nbsp; c) 'not in' keyword <br>\n",
    "5) <b>In-Class Exercise #2</b> <br>\n",
    "6) Elif Statements <br>\n",
    "7) Else Statements <br>\n",
    "8) <b>In-Class Exercise #3</b> <br>\n",
    "9) For Loops <br>\n",
    " &nbsp;&nbsp;&nbsp;&nbsp; a) Using 'in' keyword <br>\n",
    " &nbsp;&nbsp;&nbsp;&nbsp; b) Continue Statement <br>\n",
    " &nbsp;&nbsp;&nbsp;&nbsp; c) Break Statement <br>\n",
    " &nbsp;&nbsp;&nbsp;&nbsp; d) Pass Statement <br>\n",
    " &nbsp;&nbsp;&nbsp;&nbsp; e) Double For Loops <br>\n",
    "10) While Loops <br>\n",
    " &nbsp;&nbsp;&nbsp;&nbsp; a) Looping 'While True' <br>\n",
    " &nbsp;&nbsp;&nbsp;&nbsp; b) While and For Loops Used Together <br>\n",
    "11) Built-In Functions <br>\n",
    " &nbsp;&nbsp;&nbsp;&nbsp; a) range() <br>\n",
    " &nbsp;&nbsp;&nbsp;&nbsp; b) len() <br>\n",
    " &nbsp;&nbsp;&nbsp;&nbsp; c) help() <br>\n",
    " &nbsp;&nbsp;&nbsp;&nbsp; d) isinstance() <br>\n",
    " &nbsp;&nbsp;&nbsp;&nbsp; e) abs() <br>\n",
    "12) Try and Except <br>\n",
    "13) Lists <br>\n",
    " &nbsp;&nbsp;&nbsp;&nbsp; a) Declaring Lists <br>\n",
    " &nbsp;&nbsp;&nbsp;&nbsp; b) Indexing a List <br>\n",
    " &nbsp;&nbsp;&nbsp;&nbsp; c) .append() <br>\n",
    " &nbsp;&nbsp;&nbsp;&nbsp; d) .insert() <br>\n",
    " &nbsp;&nbsp;&nbsp;&nbsp; e) .pop() <br>\n",
    " &nbsp;&nbsp;&nbsp;&nbsp; f) .remove() <br>\n",
    " &nbsp;&nbsp;&nbsp;&nbsp; g) del() <br>\n",
    " &nbsp;&nbsp;&nbsp;&nbsp; h) Concatenating Two Lists <br>\n",
    " &nbsp;&nbsp;&nbsp;&nbsp; i) Lists Within Lists <br>\n",
    " &nbsp;&nbsp;&nbsp;&nbsp; j) Looping Through Lists <br>"
   ]
  },
  {
   "attachments": {},
   "cell_type": "markdown",
   "metadata": {},
   "source": [
    "### Int & Float Assignments"
   ]
  },
  {
   "attachments": {},
   "cell_type": "markdown",
   "metadata": {},
   "source": [
    "##### Assigning int"
   ]
  },
  {
   "cell_type": "code",
   "execution_count": 2,
   "metadata": {},
   "outputs": [
    {
     "name": "stdout",
     "output_type": "stream",
     "text": [
      "6\n",
      "<class 'int'>\n"
     ]
    }
   ],
   "source": [
    "number = 6\n",
    "print(number)\n",
    "print(type(number))"
   ]
  },
  {
   "attachments": {},
   "cell_type": "markdown",
   "metadata": {},
   "source": [
    "##### Assinging float"
   ]
  },
  {
   "cell_type": "code",
   "execution_count": 3,
   "metadata": {},
   "outputs": [
    {
     "name": "stdout",
     "output_type": "stream",
     "text": [
      "6.6\n",
      "<class 'float'>\n"
     ]
    }
   ],
   "source": [
    "number_float = 6.6\n",
    "print(number_float)\n",
    "print(type(number_float))"
   ]
  },
  {
   "attachments": {},
   "cell_type": "markdown",
   "metadata": {},
   "source": [
    "#### Performing Calculations on ints and floats"
   ]
  },
  {
   "attachments": {},
   "cell_type": "markdown",
   "metadata": {},
   "source": [
    "##### Addition"
   ]
  },
  {
   "cell_type": "code",
   "execution_count": 10,
   "metadata": {},
   "outputs": [
    {
     "name": "stdout",
     "output_type": "stream",
     "text": [
      "5.3\n",
      "<class 'float'>\n",
      "7.3\n",
      "9.3\n"
     ]
    }
   ],
   "source": [
    "num1 = 2\n",
    "num2 = 3.3\n",
    "\n",
    "result = num1 + num2\n",
    "print(result)\n",
    "print(type(result))\n",
    "\n",
    "result = result + 2\n",
    "print(result)\n",
    "result += 2\n",
    "print(result)"
   ]
  },
  {
   "attachments": {},
   "cell_type": "markdown",
   "metadata": {},
   "source": [
    "##### Subtraction"
   ]
  },
  {
   "cell_type": "code",
   "execution_count": 11,
   "metadata": {},
   "outputs": [
    {
     "name": "stdout",
     "output_type": "stream",
     "text": [
      "1.2999999999999998\n",
      "0.2999999999999998\n"
     ]
    }
   ],
   "source": [
    "diff = num2 - num1\n",
    "print(diff)\n",
    "\n",
    "diff -= 1\n",
    "print(diff)"
   ]
  },
  {
   "attachments": {},
   "cell_type": "markdown",
   "metadata": {},
   "source": [
    "##### Multiplication"
   ]
  },
  {
   "cell_type": "code",
   "execution_count": 12,
   "metadata": {},
   "outputs": [
    {
     "name": "stdout",
     "output_type": "stream",
     "text": [
      "50\n",
      "100\n"
     ]
    }
   ],
   "source": [
    "prod = 5 * 10\n",
    "print(prod)\n",
    "\n",
    "prod *= 2\n",
    "print(prod)"
   ]
  },
  {
   "attachments": {},
   "cell_type": "markdown",
   "metadata": {},
   "source": [
    "##### Division"
   ]
  },
  {
   "cell_type": "code",
   "execution_count": 16,
   "metadata": {},
   "outputs": [
    {
     "name": "stdout",
     "output_type": "stream",
     "text": [
      "5.0\n",
      "2.5\n"
     ]
    }
   ],
   "source": [
    "quotient = 10/2\n",
    "print(quotient)\n",
    "\n",
    "#result of division will ALWAYS be a float\n",
    "quotient /= 2\n",
    "print(quotient)"
   ]
  },
  {
   "attachments": {},
   "cell_type": "markdown",
   "metadata": {},
   "source": [
    "##### Floor Division"
   ]
  },
  {
   "cell_type": "code",
   "execution_count": 20,
   "metadata": {},
   "outputs": [
    {
     "name": "stdout",
     "output_type": "stream",
     "text": [
      "3\n",
      "1\n"
     ]
    }
   ],
   "source": [
    "floor = 10//3\n",
    "print(floor)\n",
    "\n",
    "floor //= 2\n",
    "print(floor)"
   ]
  },
  {
   "attachments": {},
   "cell_type": "markdown",
   "metadata": {},
   "source": [
    "##### Modulo"
   ]
  },
  {
   "cell_type": "code",
   "execution_count": 23,
   "metadata": {},
   "outputs": [
    {
     "name": "stdout",
     "output_type": "stream",
     "text": [
      "1.3000000000000007\n",
      "4.4\n"
     ]
    }
   ],
   "source": [
    "modulo = 10.3%3\n",
    "print(modulo)\n",
    "\n",
    "x = 17.6/4\n",
    "print(x)"
   ]
  },
  {
   "attachments": {},
   "cell_type": "markdown",
   "metadata": {},
   "source": [
    "##### Exponential"
   ]
  },
  {
   "cell_type": "code",
   "execution_count": 25,
   "metadata": {},
   "outputs": [
    {
     "name": "stdout",
     "output_type": "stream",
     "text": [
      "25\n",
      "625\n"
     ]
    }
   ],
   "source": [
    "square = 5 ** 2\n",
    "print(square)\n",
    "\n",
    "square **= 2\n",
    "print(square)"
   ]
  },
  {
   "attachments": {},
   "cell_type": "markdown",
   "metadata": {},
   "source": [
    "### String Input-Output"
   ]
  },
  {
   "attachments": {},
   "cell_type": "markdown",
   "metadata": {},
   "source": [
    "##### String Assignment"
   ]
  },
  {
   "cell_type": "code",
   "execution_count": 30,
   "metadata": {},
   "outputs": [
    {
     "name": "stdout",
     "output_type": "stream",
     "text": [
      "Renat\n",
      "<class 'str'>\n",
      "Renat\n",
      "<class 'str'>\n",
      "Lucky's Diner\n",
      "Renat said, \"Let's go to Lucky's Diner!\".\n",
      "\\n\n",
      "Renat said, \"Let's go to Lucky's Diner!\".\n"
     ]
    }
   ],
   "source": [
    "name = \"Renat\"\n",
    "name2 = 'Renat'\n",
    "print(name)\n",
    "print(type(name))\n",
    "print(name2)\n",
    "print(type(name2))\n",
    "\n",
    "sentence = \"Lucky's Diner\"\n",
    "#sentence2 = 'Lucky's Diner' #this is problematic\n",
    "\n",
    "print(sentence)\n",
    "\n",
    "#escape character\n",
    "sentence3 = \"Renat said, \\\"Let's go to Lucky's Diner!\\\".\"\n",
    "print(sentence3)\n",
    "\n",
    "sentence4 = \"\\\\n\"\n",
    "print(sentence4)\n",
    "\n",
    "sentence5 = f\"{name} said, \\\"Let's go to Lucky's Diner!\\\".\"\n",
    "print(sentence5)"
   ]
  },
  {
   "attachments": {},
   "cell_type": "markdown",
   "metadata": {},
   "source": [
    "##### print() <br>\n",
    "<p>Don't forget about end=' '</p>"
   ]
  },
  {
   "cell_type": "code",
   "execution_count": 34,
   "metadata": {},
   "outputs": [
    {
     "name": "stdout",
     "output_type": "stream",
     "text": [
      "Renat 2 3.3\n",
      "Renat#2#3.3\n",
      "Renat#2#3.3\tRenat#2#3.3\n"
     ]
    }
   ],
   "source": [
    "print(name, num1, num2)\n",
    "print(name, num1, num2, sep='#')\n",
    "\n",
    "print(name, num1, num2, sep='#', end='\\t')\n",
    "print(name, num1, num2, sep='#')"
   ]
  },
  {
   "attachments": {},
   "cell_type": "markdown",
   "metadata": {},
   "source": [
    "##### String Concatenation"
   ]
  },
  {
   "cell_type": "code",
   "execution_count": 43,
   "metadata": {},
   "outputs": [
    {
     "name": "stdout",
     "output_type": "stream",
     "text": [
      "Renat Zalov\n",
      "Renat\n",
      "Zalov\n",
      "Renat Zalov Jr.\n",
      "R\n"
     ]
    }
   ],
   "source": [
    "first = \"Renat\"\n",
    "last = \"Zalov\"\n",
    "full = first + \" \" + last\n",
    "print(full)\n",
    "print(first)\n",
    "print(last)\n",
    "\n",
    "full += \" Jr.\"\n",
    "print(full)\n",
    "\n",
    "#index into a string\n",
    "first_letter = first[0]\n",
    "print(first_letter)\n",
    "\n",
    "#strings are immutable\n",
    "#first[0] = 'B'"
   ]
  },
  {
   "attachments": {},
   "cell_type": "markdown",
   "metadata": {},
   "source": [
    "##### Type Conversion"
   ]
  },
  {
   "cell_type": "code",
   "execution_count": 47,
   "metadata": {},
   "outputs": [
    {
     "name": "stdout",
     "output_type": "stream",
     "text": [
      "32\n",
      "<class 'str'>\n",
      "32\n",
      "<class 'int'>\n",
      "32100\n"
     ]
    }
   ],
   "source": [
    "num = '32'\n",
    "print(num)\n",
    "print(type(num))\n",
    "\n",
    "newnum = int(num)\n",
    "print(newnum)\n",
    "print(type(newnum))\n",
    "\n",
    "num2 = '100'\n",
    "result = num + num2\n",
    "print(result)"
   ]
  },
  {
   "attachments": {},
   "cell_type": "markdown",
   "metadata": {},
   "source": [
    "##### input()"
   ]
  },
  {
   "cell_type": "code",
   "execution_count": 53,
   "metadata": {},
   "outputs": [
    {
     "name": "stdout",
     "output_type": "stream",
     "text": [
      "What is your name?Renat\n",
      "What is your age?Test\n",
      "please enter a digit for your age (use 0-9 characters)\n"
     ]
    }
   ],
   "source": [
    "#inputs will always return a string\n",
    "name = input(\"What is your name?\")\n",
    "age = input(\"What is your age?\")\n",
    "\n",
    "if age.isdigit():\n",
    "    string = f\"Hello {name}! In 1 year you will be {int(age) +1} years old.\"\n",
    "    print(string)\n",
    "else:\n",
    "    print(\"please enter a digit for your age (use 0-9 characters)\")"
   ]
  },
  {
   "attachments": {},
   "cell_type": "markdown",
   "metadata": {},
   "source": [
    "##### format()"
   ]
  },
  {
   "cell_type": "code",
   "execution_count": 57,
   "metadata": {},
   "outputs": [],
   "source": [
    "#f string (see above)"
   ]
  },
  {
   "attachments": {},
   "cell_type": "markdown",
   "metadata": {},
   "source": [
    "##### Old Way (python 2)"
   ]
  },
  {
   "cell_type": "code",
   "execution_count": null,
   "metadata": {},
   "outputs": [],
   "source": [
    "# https://www.w3schools.com/python/ref_string_format.asp"
   ]
  },
  {
   "attachments": {},
   "cell_type": "markdown",
   "metadata": {},
   "source": [
    "# In-Class Exercise 1 <br>\n",
    "<p>Create a format statement that asks for color, year, make, model and prints out the results</p>"
   ]
  },
  {
   "cell_type": "code",
   "execution_count": 59,
   "metadata": {},
   "outputs": [
    {
     "name": "stdout",
     "output_type": "stream",
     "text": [
      "What is the color of your car?gray\n",
      "What is the year of your car?2022\n",
      "What is the make of your car?Jeep\n",
      "What is the model of your car?Grand Cherokee L\n",
      "You have a gray 2022 Jeep Grand Cherokee L.\n"
     ]
    }
   ],
   "source": [
    "color = input(\"What is the color of your car?\")\n",
    "year = input(\"What is the year of your car?\")\n",
    "make = input(\"What is the make of your car?\")\n",
    "model = input(\"What is the model of your car?\")\n",
    "print(f\"You have a {color} {year} {make} {model}.\")"
   ]
  },
  {
   "attachments": {},
   "cell_type": "markdown",
   "metadata": {},
   "source": [
    "### If Statements"
   ]
  },
  {
   "cell_type": "code",
   "execution_count": 66,
   "metadata": {},
   "outputs": [
    {
     "name": "stdout",
     "output_type": "stream",
     "text": [
      "they are the same\n"
     ]
    }
   ],
   "source": [
    "# Available operators: Greater(>), Less(<),Equal(==)\n",
    "# Greater or Equal(>=), Less or Equal (<=)\n",
    "\n",
    "# Truth Tree:\n",
    "# T && F = F\n",
    "# T && T = T\n",
    "# T || F = T\n",
    "# F || T = T\n",
    "# F || F = F\n",
    "\n",
    "num1 = 5\n",
    "num2 = 5\n",
    "\n",
    "if num2 > num1:\n",
    "    print(\"num2 is bigger\")\n",
    "elif num1 > num2:\n",
    "    print(\"num 1 is bigger\")\n",
    "else:\n",
    "    print(\"they are the same\")"
   ]
  },
  {
   "attachments": {},
   "cell_type": "markdown",
   "metadata": {},
   "source": [
    "##### 'is' keyword"
   ]
  },
  {
   "cell_type": "code",
   "execution_count": 75,
   "metadata": {
    "scrolled": true
   },
   "outputs": [
    {
     "name": "stdout",
     "output_type": "stream",
     "text": [
      "True\n",
      "True\n",
      "[4, 4, 4]\n",
      "[4, 4, 4]\n",
      "[4, 4, 4, 5]\n",
      "[4, 4, 4]\n"
     ]
    },
    {
     "data": {
      "text/plain": [
       "True"
      ]
     },
     "execution_count": 75,
     "metadata": {},
     "output_type": "execute_result"
    }
   ],
   "source": [
    "test = 1\n",
    "x = 1\n",
    "\n",
    "# is keyword checks for referencial equality (used for objects)\n",
    "x is test\n",
    "\n",
    "print(x is test)\n",
    "print(x == test)\n",
    "\n",
    "shoha = [4,4,4]\n",
    "sarah = [4,4,4]\n",
    "test = shoha\n",
    "\n",
    "shoha == sarah\n",
    "shoha is sarah\n",
    "\n",
    "print(test)\n",
    "print(shoha)\n",
    "shoha.append(5)\n",
    "print(test)\n",
    "print(sarah)\n",
    "\n",
    "name = \"Renat\"\n",
    "test = \"Renat\"\n",
    "name is test"
   ]
  },
  {
   "attachments": {},
   "cell_type": "markdown",
   "metadata": {},
   "source": [
    "##### 'in' keyword"
   ]
  },
  {
   "cell_type": "code",
   "execution_count": 78,
   "metadata": {},
   "outputs": [
    {
     "data": {
      "text/plain": [
       "True"
      ]
     },
     "execution_count": 78,
     "metadata": {},
     "output_type": "execute_result"
    }
   ],
   "source": [
    "\"R\" in \"Renat\""
   ]
  },
  {
   "attachments": {},
   "cell_type": "markdown",
   "metadata": {},
   "source": [
    "##### 'not in' keyword'"
   ]
  },
  {
   "cell_type": "code",
   "execution_count": 79,
   "metadata": {},
   "outputs": [
    {
     "data": {
      "text/plain": [
       "True"
      ]
     },
     "execution_count": 79,
     "metadata": {},
     "output_type": "execute_result"
    }
   ],
   "source": [
    "\"r\" not in \"Renat\""
   ]
  },
  {
   "attachments": {},
   "cell_type": "markdown",
   "metadata": {},
   "source": [
    "# In-Class Exercise 2 <br>\n",
    "<p>Ask user for input, check to see if the letter 'p' is in the input</p>"
   ]
  },
  {
   "cell_type": "code",
   "execution_count": 84,
   "metadata": {},
   "outputs": [
    {
     "name": "stdout",
     "output_type": "stream",
     "text": [
      "What is your favorite animal?stork\n",
      "The letter p is not in the input\n"
     ]
    }
   ],
   "source": [
    "ans = input(\"What is your favorite animal?\")\n",
    "\n",
    "if (\"p\" in ans) or (\"P\" in ans):\n",
    "    print(\"The letter p is in the input\")\n",
    "else:\n",
    "    print(\"The letter p is not in the input\")"
   ]
  },
  {
   "attachments": {},
   "cell_type": "markdown",
   "metadata": {},
   "source": [
    "## Using 'and'/'or' with If Statements"
   ]
  },
  {
   "cell_type": "code",
   "execution_count": null,
   "metadata": {},
   "outputs": [],
   "source": [
    "#see above"
   ]
  },
  {
   "attachments": {},
   "cell_type": "markdown",
   "metadata": {},
   "source": [
    "### Elif Statements"
   ]
  },
  {
   "cell_type": "code",
   "execution_count": null,
   "metadata": {},
   "outputs": [],
   "source": [
    "#see above"
   ]
  },
  {
   "attachments": {},
   "cell_type": "markdown",
   "metadata": {},
   "source": [
    "### Else Statements"
   ]
  },
  {
   "cell_type": "code",
   "execution_count": null,
   "metadata": {},
   "outputs": [],
   "source": [
    "# see above"
   ]
  },
  {
   "attachments": {},
   "cell_type": "markdown",
   "metadata": {},
   "source": [
    "### For Loops"
   ]
  },
  {
   "cell_type": "code",
   "execution_count": 90,
   "metadata": {},
   "outputs": [
    {
     "name": "stdout",
     "output_type": "stream",
     "text": [
      "e\n",
      "a\n",
      "A\n",
      "O\n",
      "THIS IS THE FIFTH CHAR: t\n"
     ]
    }
   ],
   "source": [
    "# syntax\n",
    "# for VARIABLE in ITERABLE:\n",
    "\n",
    "name = 'Renat ZALOV'\n",
    "\n",
    "for letter in name:\n",
    "    if letter.lower() in 'aeiou':\n",
    "        print(letter)\n",
    "\n",
    "# when looping through indices\n",
    "for index in range(len(name)):\n",
    "    if index == 5:\n",
    "        print('THIS IS THE FIFTH CHAR:', name[index-1])"
   ]
  },
  {
   "attachments": {},
   "cell_type": "markdown",
   "metadata": {},
   "source": [
    "##### Using 'in' keyword"
   ]
  },
  {
   "cell_type": "code",
   "execution_count": null,
   "metadata": {},
   "outputs": [],
   "source": [
    "# see above"
   ]
  },
  {
   "attachments": {},
   "cell_type": "markdown",
   "metadata": {},
   "source": [
    "##### Continue Statement"
   ]
  },
  {
   "cell_type": "code",
   "execution_count": null,
   "metadata": {},
   "outputs": [],
   "source": [
    "# will continue to next iteration"
   ]
  },
  {
   "cell_type": "code",
   "execution_count": 94,
   "metadata": {},
   "outputs": [
    {
     "name": "stdout",
     "output_type": "stream",
     "text": [
      "0\n",
      "1\n",
      "2\n",
      "3\n",
      "4\n",
      "6\n",
      "7\n",
      "8\n",
      "9\n",
      "Done\n"
     ]
    }
   ],
   "source": [
    "for num in range(10):\n",
    "    if num == 5:\n",
    "        continue\n",
    "    print(num)\n",
    "\n",
    "print(\"Done\")"
   ]
  },
  {
   "attachments": {},
   "cell_type": "markdown",
   "metadata": {},
   "source": [
    "##### Break Statement"
   ]
  },
  {
   "cell_type": "code",
   "execution_count": null,
   "metadata": {},
   "outputs": [],
   "source": [
    "# will break out of current loop"
   ]
  },
  {
   "cell_type": "code",
   "execution_count": 95,
   "metadata": {},
   "outputs": [
    {
     "name": "stdout",
     "output_type": "stream",
     "text": [
      "0\n",
      "1\n",
      "2\n",
      "3\n",
      "4\n",
      "Done\n"
     ]
    }
   ],
   "source": [
    "for num in range(10):\n",
    "    if num == 5:\n",
    "        break\n",
    "    print(num)\n",
    "\n",
    "print(\"Done\")"
   ]
  },
  {
   "attachments": {},
   "cell_type": "markdown",
   "metadata": {},
   "source": [
    "##### Pass Statement"
   ]
  },
  {
   "cell_type": "code",
   "execution_count": null,
   "metadata": {},
   "outputs": [],
   "source": [
    "# mostly used as a placeholder, and will continue on same iteration"
   ]
  },
  {
   "cell_type": "code",
   "execution_count": 96,
   "metadata": {},
   "outputs": [
    {
     "name": "stdout",
     "output_type": "stream",
     "text": [
      "0\n",
      "1\n",
      "2\n",
      "3\n",
      "4\n",
      "5\n",
      "6\n",
      "7\n",
      "8\n",
      "9\n",
      "Done\n"
     ]
    }
   ],
   "source": [
    "for num in range(10):\n",
    "    if num == 5:\n",
    "        pass\n",
    "    print(num)\n",
    "\n",
    "print(\"Done\")"
   ]
  },
  {
   "attachments": {},
   "cell_type": "markdown",
   "metadata": {},
   "source": [
    "##### Double For Loops"
   ]
  },
  {
   "cell_type": "code",
   "execution_count": 97,
   "metadata": {},
   "outputs": [
    {
     "name": "stdout",
     "output_type": "stream",
     "text": [
      "OUTER 0 INNER 0\n",
      "OUTER 0 INNER 1\n",
      "OUTER 0 INNER 2\n",
      "OUTER 0 INNER 3\n",
      "OUTER 0 INNER 4\n",
      "OUTER 1 INNER 0\n",
      "OUTER 1 INNER 1\n",
      "OUTER 1 INNER 2\n",
      "OUTER 1 INNER 3\n",
      "OUTER 1 INNER 4\n",
      "OUTER 2 INNER 0\n",
      "OUTER 2 INNER 1\n",
      "OUTER 2 INNER 2\n",
      "OUTER 2 INNER 3\n",
      "OUTER 2 INNER 4\n"
     ]
    }
   ],
   "source": [
    "for outer in range(3):\n",
    "    for inner in range(5):\n",
    "        print(\"OUTER\", outer, \"INNER\", inner)"
   ]
  },
  {
   "attachments": {},
   "cell_type": "markdown",
   "metadata": {},
   "source": [
    "### While Loops"
   ]
  },
  {
   "cell_type": "code",
   "execution_count": 99,
   "metadata": {},
   "outputs": [
    {
     "name": "stdout",
     "output_type": "stream",
     "text": [
      "0\n",
      "1\n",
      "2\n",
      "3\n",
      "4\n",
      "5\n",
      "6\n",
      "7\n",
      "8\n",
      "9\n",
      "Done\n"
     ]
    }
   ],
   "source": [
    "# syntax\n",
    "# while CONDITION:\n",
    "\n",
    "num = 0\n",
    "while num < 10:\n",
    "    print(num)\n",
    "    num += 1\n",
    "print(\"Done\")"
   ]
  },
  {
   "attachments": {},
   "cell_type": "markdown",
   "metadata": {},
   "source": [
    "##### Looping 'While True'"
   ]
  },
  {
   "cell_type": "code",
   "execution_count": 100,
   "metadata": {},
   "outputs": [
    {
     "name": "stdout",
     "output_type": "stream",
     "text": [
      "What is your name?Renat\n",
      "What is your age?thirty\n",
      "please enter a digit for your age (use 0-9 characters)\n",
      "What is your age?nine thousand\n",
      "please enter a digit for your age (use 0-9 characters)\n",
      "What is your age?30a\n",
      "please enter a digit for your age (use 0-9 characters)\n",
      "What is your age?30\n",
      "Hello Renat! In 1 year you will be 31 years old.\n",
      "Thanks for using our program\n"
     ]
    }
   ],
   "source": [
    "name = input(\"What is your name?\")\n",
    "\n",
    "while True:\n",
    "    age = input(\"What is your age?\")\n",
    "\n",
    "    if age.isdigit():\n",
    "        string = f\"Hello {name}! In 1 year you will be {int(age) +1} years old.\"\n",
    "        print(string)\n",
    "        break\n",
    "    else:\n",
    "        print(\"please enter a digit for your age (use 0-9 characters)\")\n",
    "\n",
    "print(\"Thanks for using our program\")"
   ]
  },
  {
   "attachments": {},
   "cell_type": "markdown",
   "metadata": {},
   "source": [
    "##### While & For Loops Used Together"
   ]
  },
  {
   "cell_type": "code",
   "execution_count": 103,
   "metadata": {},
   "outputs": [
    {
     "name": "stdout",
     "output_type": "stream",
     "text": [
      "\n",
      "While Loop Iteration: 0\n",
      "For Loop Iteration: 0\n",
      "For Loop Iteration: 1\n",
      "For Loop Iteration: 2\n",
      "For Loop Iteration: 3\n",
      "\n",
      "While Loop Iteration: 1\n",
      "For Loop Iteration: 0\n",
      "For Loop Iteration: 1\n",
      "For Loop Iteration: 2\n",
      "For Loop Iteration: 3\n",
      "\n",
      "While Loop Iteration: 2\n",
      "For Loop Iteration: 0\n",
      "For Loop Iteration: 1\n",
      "For Loop Iteration: 2\n",
      "For Loop Iteration: 3\n"
     ]
    }
   ],
   "source": [
    "num = 0\n",
    "while num < 3:\n",
    "    print(\"\\nWhile Loop Iteration:\", num)\n",
    "    for i in range(4):\n",
    "        print(\"For Loop Iteration:\", i)\n",
    "    num += 1"
   ]
  },
  {
   "attachments": {},
   "cell_type": "markdown",
   "metadata": {},
   "source": [
    "### Built-In Functions"
   ]
  },
  {
   "attachments": {},
   "cell_type": "markdown",
   "metadata": {},
   "source": [
    "##### range()"
   ]
  },
  {
   "cell_type": "code",
   "execution_count": 104,
   "metadata": {},
   "outputs": [
    {
     "name": "stdout",
     "output_type": "stream",
     "text": [
      "0\n",
      "1\n",
      "2\n",
      "3\n",
      "4\n",
      "5\n",
      "6\n",
      "7\n",
      "8\n",
      "9\n",
      "3\n",
      "4\n",
      "5\n",
      "6\n",
      "7\n",
      "8\n",
      "9\n",
      "3\n",
      "6\n",
      "9\n"
     ]
    }
   ],
   "source": [
    "# start, stop, step\n",
    "for num in range(10):\n",
    "    print(num)\n",
    "\n",
    "for num in range(3,10):\n",
    "    print(num)\n",
    "\n",
    "for num in range(3,10,3):\n",
    "    print(num)"
   ]
  },
  {
   "attachments": {},
   "cell_type": "markdown",
   "metadata": {},
   "source": [
    "##### len()"
   ]
  },
  {
   "cell_type": "code",
   "execution_count": 105,
   "metadata": {},
   "outputs": [
    {
     "data": {
      "text/plain": [
       "5"
      ]
     },
     "execution_count": 105,
     "metadata": {},
     "output_type": "execute_result"
    }
   ],
   "source": [
    "name = \"Renat\"\n",
    "len(name)"
   ]
  },
  {
   "attachments": {},
   "cell_type": "markdown",
   "metadata": {},
   "source": [
    "##### help()"
   ]
  },
  {
   "cell_type": "code",
   "execution_count": 107,
   "metadata": {},
   "outputs": [
    {
     "name": "stdout",
     "output_type": "stream",
     "text": [
      "Help on built-in function isinstance in module builtins:\n",
      "\n",
      "isinstance(obj, class_or_tuple, /)\n",
      "    Return whether an object is an instance of a class or of a subclass thereof.\n",
      "    \n",
      "    A tuple, as in ``isinstance(x, (A, B, ...))``, may be given as the target to\n",
      "    check against. This is equivalent to ``isinstance(x, A) or isinstance(x, B)\n",
      "    or ...`` etc.\n",
      "\n"
     ]
    }
   ],
   "source": [
    "help(isinstance)"
   ]
  },
  {
   "attachments": {},
   "cell_type": "markdown",
   "metadata": {},
   "source": [
    "##### isinstance()"
   ]
  },
  {
   "cell_type": "code",
   "execution_count": 112,
   "metadata": {},
   "outputs": [
    {
     "name": "stdout",
     "output_type": "stream",
     "text": [
      "<class 'int'>\n"
     ]
    }
   ],
   "source": [
    "num = 9000\n",
    "print(type(num))\n",
    "\n",
    "isinstance(num, str)\n",
    "\n",
    "if isinstance(num, str):\n",
    "    num.upper()"
   ]
  },
  {
   "attachments": {},
   "cell_type": "markdown",
   "metadata": {},
   "source": [
    "##### abs()"
   ]
  },
  {
   "cell_type": "code",
   "execution_count": 114,
   "metadata": {},
   "outputs": [
    {
     "data": {
      "text/plain": [
       "10"
      ]
     },
     "execution_count": 114,
     "metadata": {},
     "output_type": "execute_result"
    }
   ],
   "source": [
    "# math absolute value (makes everything positive)\n",
    "abs(-10)"
   ]
  },
  {
   "attachments": {},
   "cell_type": "markdown",
   "metadata": {},
   "source": [
    "### Try and Except"
   ]
  },
  {
   "cell_type": "code",
   "execution_count": 6,
   "metadata": {},
   "outputs": [
    {
     "name": "stdout",
     "output_type": "stream",
     "text": [
      "Guess a number from 1 to 101\n",
      "Guess again :(\n",
      "Guess a number from 1 to 102\n",
      "Guess again :(\n",
      "Guess a number from 1 to 103\n",
      "Guess again :(\n",
      "Guess a number from 1 to 105\n",
      "Guess again :(\n",
      "Guess a number from 1 to 106\n",
      "Guess again :(\n",
      "Guess a number from 1 to 107\n",
      "Guess again :(\n",
      "Guess a number from 1 to 108\n",
      "Guess again :(\n",
      "Guess a number from 1 to 109\n",
      "Guess again :(\n",
      "Guess a number from 1 to 1010\n",
      "Guess again :(\n",
      "Guess a number from 1 to 1011\n",
      "Guess again :(\n",
      "Guess a number from 1 to 10eleven\n",
      "Invalid input... Please enter a digit (0-9)\n",
      "Guess a number from 1 to 104\n",
      "CORRECT\n"
     ]
    }
   ],
   "source": [
    "while True:\n",
    "    try:\n",
    "        num = input(\"Guess a number from 1 to 10\")\n",
    "        num = int(num)\n",
    "        if num == 4:\n",
    "            print(\"CORRECT\")\n",
    "            break\n",
    "        else:\n",
    "            print(\"Guess again :(\")\n",
    "    except:\n",
    "        print(\"Invalid input... Please enter a digit (0-9)\")"
   ]
  },
  {
   "attachments": {},
   "cell_type": "markdown",
   "metadata": {},
   "source": [
    "### Lists"
   ]
  },
  {
   "attachments": {},
   "cell_type": "markdown",
   "metadata": {},
   "source": [
    "##### Declaring Lists"
   ]
  },
  {
   "cell_type": "code",
   "execution_count": 2,
   "metadata": {},
   "outputs": [
    {
     "name": "stdout",
     "output_type": "stream",
     "text": [
      "[1, 2, 3, 4, 'string', [11, 12, 13]]\n",
      "<class 'list'>\n",
      "6\n",
      "==========================\n",
      "1\n",
      "2\n",
      "3\n",
      "4\n",
      "string\n",
      "[11, 12, 13]\n"
     ]
    }
   ],
   "source": [
    "nums = [1,2,3,4,\"string\",[11,12,13]]\n",
    "print(nums)\n",
    "print(type(nums))\n",
    "print(len(nums))\n",
    "\n",
    "print(\"==========================\")\n",
    "\n",
    "for item in nums:\n",
    "    print(item)"
   ]
  },
  {
   "attachments": {},
   "cell_type": "markdown",
   "metadata": {},
   "source": [
    "##### Indexing a List"
   ]
  },
  {
   "cell_type": "code",
   "execution_count": 13,
   "metadata": {},
   "outputs": [
    {
     "name": "stdout",
     "output_type": "stream",
     "text": [
      "['Max', 'Cindy', 'Kathy', 'Bob', 'Nate', 'Jake', 'Andrew', 'Melissa']\n",
      "Max\n",
      "['Kathy', 'Bob', 'Nate', 'Jake', 'Andrew', 'Melissa']\n",
      "['Max', 'Cindy']\n",
      "['Cindy', 'Kathy']\n",
      "['Cindy', 'Bob', 'Jake']\n",
      "['Melissa', 'Andrew', 'Jake', 'Nate', 'Bob', 'Kathy', 'Cindy', 'Max']\n",
      "['Max', 'Cindy', 'Kathy', 'Bob', 'Nate', 'Jake', 'Andrew', 'Melissa']\n",
      "False\n"
     ]
    }
   ],
   "source": [
    "names = ['Max','Cindy','Kathy', \"Bob\",\"Nate\",\"Jake\",\"Andrew\",\"Melissa\"]\n",
    "\n",
    "print(names)\n",
    "names[-1]\n",
    "\n",
    "# single index\n",
    "print(names[0])\n",
    "\n",
    "# [start:stop:step]\n",
    "\n",
    "# from an index to the end\n",
    "print(names[2:])\n",
    "\n",
    "# from beginning to an index\n",
    "print(names[:2])\n",
    "\n",
    "# from an index to an index\n",
    "print(names[1:3])\n",
    "\n",
    "# from an index to index with a step\n",
    "print(names[1:6:2])\n",
    "\n",
    "# step can be reversed\n",
    "print(names[::-1])\n",
    "\n",
    "# simply wanted to clone a list\n",
    "clone = names[:]\n",
    "print(clone)\n",
    "print(clone is names)"
   ]
  },
  {
   "attachments": {},
   "cell_type": "markdown",
   "metadata": {},
   "source": [
    "##### .append()"
   ]
  },
  {
   "cell_type": "code",
   "execution_count": 15,
   "metadata": {},
   "outputs": [
    {
     "name": "stdout",
     "output_type": "stream",
     "text": [
      "['Max', 'Cindy', 'Kathy', 'Bob', 'Nate', 'Jake', 'Andrew', 'Melissa', 'Renat', 'Renat']\n",
      "None\n",
      "['Max', 'Cindy', 'Kathy', 'Bob', 'Nate', 'Jake', 'Andrew', 'Melissa', 'Renat', 'Renat', 'Renat']\n"
     ]
    }
   ],
   "source": [
    "save = clone.append(\"Renat\")\n",
    "print(clone)\n",
    "print(save)\n",
    "\n",
    "clone.append(\"Renat\")\n",
    "print(clone)"
   ]
  },
  {
   "attachments": {},
   "cell_type": "markdown",
   "metadata": {},
   "source": [
    "##### .insert()"
   ]
  },
  {
   "cell_type": "code",
   "execution_count": 16,
   "metadata": {},
   "outputs": [
    {
     "name": "stdout",
     "output_type": "stream",
     "text": [
      "['Max', 'Cindy', 'Kathy', 'Sarah', 'Bob', 'Nate', 'Jake', 'Andrew', 'Melissa', 'Renat', 'Renat', 'Renat']\n"
     ]
    }
   ],
   "source": [
    "clone.insert(3, \"Sarah\")\n",
    "print(clone)"
   ]
  },
  {
   "attachments": {},
   "cell_type": "markdown",
   "metadata": {},
   "source": [
    "##### .pop()"
   ]
  },
  {
   "cell_type": "code",
   "execution_count": 19,
   "metadata": {},
   "outputs": [
    {
     "name": "stdout",
     "output_type": "stream",
     "text": [
      "Renat\n",
      "['Max', 'Cindy', 'Kathy', 'Sarah', 'Bob', 'Nate', 'Jake', 'Andrew', 'Melissa']\n",
      "Sarah\n",
      "['Max', 'Cindy', 'Kathy', 'Bob', 'Nate', 'Jake', 'Andrew', 'Melissa']\n"
     ]
    }
   ],
   "source": [
    "last = clone.pop()\n",
    "print(last)\n",
    "print(clone)\n",
    "\n",
    "third = clone.pop(3)\n",
    "print(third)\n",
    "print(clone)"
   ]
  },
  {
   "attachments": {},
   "cell_type": "markdown",
   "metadata": {},
   "source": [
    "\n",
    "##### .remove()"
   ]
  },
  {
   "cell_type": "code",
   "execution_count": 20,
   "metadata": {},
   "outputs": [
    {
     "name": "stdout",
     "output_type": "stream",
     "text": [
      "['Max', 'Cindy', 'Kathy', 'Nate', 'Jake', 'Andrew', 'Melissa']\n"
     ]
    }
   ],
   "source": [
    "# will only remove the first instance\n",
    "\n",
    "clone.remove(\"Bob\")\n",
    "print(clone)"
   ]
  },
  {
   "attachments": {},
   "cell_type": "markdown",
   "metadata": {},
   "source": [
    "##### del()"
   ]
  },
  {
   "cell_type": "code",
   "execution_count": 21,
   "metadata": {},
   "outputs": [
    {
     "name": "stdout",
     "output_type": "stream",
     "text": [
      "['Max', 'Kathy', 'Nate', 'Jake', 'Andrew', 'Melissa']\n"
     ]
    }
   ],
   "source": [
    "del(clone[1])\n",
    "print(clone)"
   ]
  },
  {
   "attachments": {},
   "cell_type": "markdown",
   "metadata": {},
   "source": [
    "##### Concatenating Two Lists"
   ]
  },
  {
   "cell_type": "code",
   "execution_count": 22,
   "metadata": {},
   "outputs": [
    {
     "name": "stdout",
     "output_type": "stream",
     "text": [
      "[1, 2, 3, 4, 5, 6]\n",
      "[1, 2, 3]\n",
      "[4, 5, 6]\n"
     ]
    }
   ],
   "source": [
    "l1 = [1,2,3]\n",
    "l2 = [4,5,6]\n",
    "big = l1 + l2\n",
    "print(big)\n",
    "print(l1)\n",
    "print(l2)"
   ]
  },
  {
   "attachments": {},
   "cell_type": "markdown",
   "metadata": {},
   "source": [
    "##### Lists Within Lists"
   ]
  },
  {
   "cell_type": "code",
   "execution_count": 30,
   "metadata": {},
   "outputs": [
    {
     "data": {
      "text/plain": [
       "'AMA'"
      ]
     },
     "execution_count": 30,
     "metadata": {},
     "output_type": "execute_result"
    }
   ],
   "source": [
    "names = [\"Shoha\",\"Sarah\",[\"Renat\",\"Edward\",\"Paul\",\"Ousama\",\"Nick\",\"Troy\"]]\n",
    "names[2][3][3:].upper()"
   ]
  },
  {
   "attachments": {},
   "cell_type": "markdown",
   "metadata": {},
   "source": [
    "##### Looping Through Lists"
   ]
  },
  {
   "cell_type": "code",
   "execution_count": 31,
   "metadata": {},
   "outputs": [
    {
     "name": "stdout",
     "output_type": "stream",
     "text": [
      "Shoha\n",
      "Sarah\n",
      "['Renat', 'Edward', 'Paul', 'Ousama', 'Nick', 'Troy']\n"
     ]
    }
   ],
   "source": [
    "for item in names:\n",
    "    print(item)"
   ]
  },
  {
   "attachments": {},
   "cell_type": "markdown",
   "metadata": {},
   "source": [
    "## Exercise #1 <br>\n",
    "<p>Cube Number Test... Print out all cubed numbers up to the total value 1000. Meaning that if the cubed number is over 1000 break the loop.</p>"
   ]
  },
  {
   "cell_type": "code",
   "execution_count": 32,
   "metadata": {},
   "outputs": [
    {
     "name": "stdout",
     "output_type": "stream",
     "text": [
      "1\n",
      "8\n",
      "27\n",
      "64\n",
      "125\n",
      "216\n",
      "343\n",
      "512\n",
      "729\n",
      "1000\n"
     ]
    }
   ],
   "source": [
    "num = 1\n",
    "while num**3 <= 1000:\n",
    "    print(num**3)\n",
    "    num += 1    "
   ]
  },
  {
   "attachments": {},
   "cell_type": "markdown",
   "metadata": {},
   "source": [
    "## Exercise #2 <br>\n",
    "<p>Get first prime numbers up to 100</p>"
   ]
  },
  {
   "cell_type": "code",
   "execution_count": 75,
   "metadata": {},
   "outputs": [
    {
     "name": "stdout",
     "output_type": "stream",
     "text": [
      "2\n",
      "3\n",
      "5\n",
      "7\n",
      "11\n",
      "13\n",
      "17\n",
      "19\n",
      "23\n",
      "29\n",
      "31\n",
      "37\n",
      "41\n",
      "43\n",
      "47\n",
      "53\n",
      "59\n",
      "61\n",
      "67\n",
      "71\n",
      "73\n",
      "79\n",
      "83\n",
      "89\n",
      "97\n"
     ]
    }
   ],
   "source": [
    "# HINT::\n",
    "# An else after an if runs if the if didn’t\n",
    "# An else after a for runs if the for didn’t break\n",
    "\n",
    "for num in range(1,100):\n",
    "    if num > 1:\n",
    "        for divs in range(2,num):\n",
    "            if num % divs == 0:\n",
    "                break\n",
    "        else:\n",
    "            print(num)"
   ]
  },
  {
   "attachments": {},
   "cell_type": "markdown",
   "metadata": {},
   "source": [
    "# Exercise 3 <br>\n",
    "<p>Take in a users input for their age, if they are younger than 18 print kids, if they're 18 to 65 print adults, else print seniors</p>"
   ]
  },
  {
   "cell_type": "code",
   "execution_count": 51,
   "metadata": {},
   "outputs": [
    {
     "name": "stdout",
     "output_type": "stream",
     "text": [
      "What is your age?2000\n",
      "You are a senior.\n"
     ]
    }
   ],
   "source": [
    "while True:\n",
    "    age = input(\"What is your age?\")\n",
    "\n",
    "    if \"-\" in age:\n",
    "        print(\"Please enter an age greater than or equal to 0\")\n",
    "    elif age.isdigit() and (int(age) >= 0 and int(age) < 18):\n",
    "        print(\"You are a kid.\")\n",
    "        break\n",
    "    elif age.isdigit() and (int(age) >= 18 and int(age) <= 65):\n",
    "        print(\"You are an adult.\")\n",
    "        break\n",
    "    elif age.isdigit() and int(age) > 65:\n",
    "        print(\"You are a senior.\")\n",
    "        break\n",
    "    else:\n",
    "        print(\"Please enter a digit for your age (use 0-9 characters)\")"
   ]
  }
 ],
 "metadata": {
  "kernelspec": {
   "display_name": "Python 3 (ipykernel)",
   "language": "python",
   "name": "python3"
  },
  "language_info": {
   "codemirror_mode": {
    "name": "ipython",
    "version": 3
   },
   "file_extension": ".py",
   "mimetype": "text/x-python",
   "name": "python",
   "nbconvert_exporter": "python",
   "pygments_lexer": "ipython3",
   "version": "3.10.9"
  }
 },
 "nbformat": 4,
 "nbformat_minor": 2
}
